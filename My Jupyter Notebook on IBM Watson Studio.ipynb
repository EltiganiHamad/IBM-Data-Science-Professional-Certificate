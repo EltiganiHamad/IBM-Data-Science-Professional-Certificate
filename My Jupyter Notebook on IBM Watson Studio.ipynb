{
    "cells": [
        {
            "cell_type": "markdown",
            "metadata": {
                "collapsed": true
            },
            "source": "# My Jupyter Notebook on IBM Watson Studio"
        },
        {
            "cell_type": "markdown",
            "metadata": {},
            "source": "**Eltigani Hamadelniel** <br> Computer Science Undergraduate student "
        },
        {
            "cell_type": "markdown",
            "metadata": {},
            "source": "*I am intersted in Data Science because I would like make empower business to make informed decisions, specifically in the sports industry. As a huge Liverpool F.C fan, my dream is to join their data team at the club and help empower the team onto winning a league title with data science.*"
        },
        {
            "cell_type": "markdown",
            "metadata": {},
            "source": "### The following code cell uses a for-loop to print out all the numbers between 1 and 10 as output."
        },
        {
            "cell_type": "code",
            "execution_count": 2,
            "metadata": {
                "scrolled": true
            },
            "outputs": [
                {
                    "name": "stdout",
                    "output_type": "stream",
                    "text": "1\n2\n3\n4\n5\n6\n7\n8\n9\n10\n"
                }
            ],
            "source": "for i in range(1,11):\n    print(i)"
        },
        {
            "cell_type": "markdown",
            "metadata": {},
            "source": "<H2>The big 6 clubs in the premier league </H2>\n<br>\n<img src=\"https://www.geordiebootboys.com/static/uploads/16/2021/04/GettyImages-1225996066.jpg\" alt=\"The Big 6 Clubs\">\n<ul>\n    <li><b>Liverpool F.C </b></li>\n    <li>Manchester United F.C </li>\n    <li>Manchester City F.C </li>\n    <li>Chelsea F.C </li>\n    <li>Arsenal F.C </li>\n    <li><s>Tottenham HotSpurs F.C </s></li>\n    <li> Newcastle F.C</li>\n</ul>\n    "
        },
        {
            "cell_type": "code",
            "execution_count": null,
            "metadata": {},
            "outputs": [],
            "source": ""
        }
    ],
    "metadata": {
        "kernelspec": {
            "display_name": "Python 3.9",
            "language": "python",
            "name": "python3"
        },
        "language_info": {
            "codemirror_mode": {
                "name": "ipython",
                "version": 3
            },
            "file_extension": ".py",
            "mimetype": "text/x-python",
            "name": "python",
            "nbconvert_exporter": "python",
            "pygments_lexer": "ipython3",
            "version": "3.9.13"
        }
    },
    "nbformat": 4,
    "nbformat_minor": 1
}